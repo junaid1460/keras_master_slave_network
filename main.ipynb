{
 "cells": [
  {
   "cell_type": "code",
   "execution_count": 3,
   "metadata": {},
   "outputs": [
    {
     "name": "stderr",
     "output_type": "stream",
     "text": [
      "Using TensorFlow backend.\n"
     ]
    }
   ],
   "source": [
    "import pandas as pd\n",
    "import numpy as np\n",
    "from keras.layers import Dense, LSTM, Dropout, Activation, Embedding, Flatten, MaxPool2D, UpSampling2D\n",
    "from keras.layers import Conv2D, Reshape, Conv1D\n",
    "from keras.models import Sequential\n",
    "from keras.utils import to_categorical\n",
    "from keras.preprocessing.sequence import pad_sequences\n",
    "import math\n",
    "import matplotlib.pyplot as plt\n",
    "from keras.initializers import Constant, glorot_normal"
   ]
  },
  {
   "cell_type": "code",
   "execution_count": 4,
   "metadata": {
    "collapsed": true
   },
   "outputs": [],
   "source": [
    "from keras.datasets import mnist"
   ]
  },
  {
   "cell_type": "code",
   "execution_count": 5,
   "metadata": {
    "collapsed": true
   },
   "outputs": [],
   "source": [
    "def newNode(units, hidden, input_shape ):\n",
    "    model = Sequential()\n",
    "    model.add(Dense(units = hidden, input_shape = input_shape, activation = 'sigmoid'))\n",
    "    model.compile(loss='mse', optimizer = 'adagrad', metrics = ['accuracy'])\n",
    "    modelx = Sequential()\n",
    "    modelx.add(model)\n",
    "    modelx.add(Dense(units = units, activation = 'sigmoid'))\n",
    "    modelx.compile(loss='mse', optimizer = 'adagrad', metrics = ['accuracy'])\n",
    "    return modelx, model\n",
    "\n",
    "\n",
    "\n",
    "def getDecisionMaker( input_shape ):\n",
    "    model = Sequential()\n",
    "    model.add(Dense(units = 1, input_shape = input_shape,\n",
    "                    activation = 'sigmoid', \n",
    "                    kernel_initializer=glorot_normal(seed=0.1)))\n",
    "    model.compile(loss='mse', optimizer = 'adagrad', metrics = ['accuracy'])\n",
    "    model.trainable = False\n",
    "    for l in model.layers:\n",
    "        l.trainable = False\n",
    "        \n",
    "    return model\n",
    "    "
   ]
  },
  {
   "cell_type": "code",
   "execution_count": 45,
   "metadata": {},
   "outputs": [],
   "source": [
    "model_count = 0\n",
    "cluster_count = 10\n",
    "dm_input = 256\n",
    "output_len = 10\n",
    "dm = getDecisionMaker((dm_input,))\n",
    "dm.save_weights('dmconstant')"
   ]
  },
  {
   "cell_type": "code",
   "execution_count": 7,
   "metadata": {
    "collapsed": true
   },
   "outputs": [],
   "source": [
    "images = mnist.load_data()"
   ]
  },
  {
   "cell_type": "code",
   "execution_count": 26,
   "metadata": {
    "collapsed": true
   },
   "outputs": [],
   "source": [
    "train, test = images\n",
    "test_x, test_y = test\n",
    "train_x, train_y = train\n",
    "test_x = test_x.reshape(10000, 784)\n",
    "train_x = train_x.reshape(60000, 784)\n",
    "train_y = to_categorical(train_y, num_classes=10)\n",
    "test_y = to_categorical(test_y, num_classes=10)"
   ]
  },
  {
   "cell_type": "code",
   "execution_count": 46,
   "metadata": {
    "collapsed": true
   },
   "outputs": [],
   "source": [
    "t, p = newNode(output_len, 256, (784,))\n",
    "nodes = [newNode(output_len, dm_input,input_shape=(dm_input,)) for i in range(cluster_count)]"
   ]
  },
  {
   "cell_type": "code",
   "execution_count": 41,
   "metadata": {
    "collapsed": true
   },
   "outputs": [],
   "source": [
    "def mkd(a, b):\n",
    "    if a > b:\n",
    "        return 0, a\n",
    "    return 1, b\n",
    "\n",
    "from collections import defaultdict"
   ]
  },
  {
   "cell_type": "code",
   "execution_count": 51,
   "metadata": {
    "collapsed": true
   },
   "outputs": [],
   "source": [
    "def make_trainable(model, v = True):\n",
    "    model.trainable = v\n",
    "    for l in model.layers:\n",
    "        l.trainable = v"
   ]
  },
  {
   "cell_type": "code",
   "execution_count": 53,
   "metadata": {},
   "outputs": [
    {
     "name": "stdout",
     "output_type": "stream",
     "text": [
      "Epoch 1/1\n",
      "60000/60000 [==============================] - 11s - loss: 0.0061 - acc: 0.9674    \n"
     ]
    }
   ],
   "source": [
    "t.fit(train_x, train_y, epochs=1, verbose = 1)\n",
    "make_trainable(t, False)"
   ]
  },
  {
   "cell_type": "code",
   "execution_count": 54,
   "metadata": {
    "collapsed": true
   },
   "outputs": [],
   "source": [
    "newx = p.predict(train_x)"
   ]
  },
  {
   "cell_type": "code",
   "execution_count": 78,
   "metadata": {},
   "outputs": [
    {
     "name": "stdout",
     "output_type": "stream",
     "text": [
      "     60000\r"
     ]
    }
   ],
   "source": [
    "def make_seperate_samples(xs, ys):\n",
    "    tmp = defaultdict(lambda:[np.array([]), np.array([])])\n",
    "    count = 0\n",
    "    for x, y in zip(xs, ys):\n",
    "        x = np.array([x])\n",
    "        index= int(dm.predict(x) * cluster_count)\n",
    "        tmp[index][0] = np.append(tmp[index][0], x)\n",
    "        tmp[index][1] = np.append(tmp[index][1], y)\n",
    "        count += 1\n",
    "        print(\"{:10d}\".format(count), end='\\r')\n",
    "    return tmp\n",
    "\n",
    "data = make_seperate_samples(newx, train_y)"
   ]
  },
  {
   "cell_type": "code",
   "execution_count": 79,
   "metadata": {},
   "outputs": [
    {
     "data": {
      "text/plain": [
       "defaultdict(<function __main__.make_seperate_samples.<locals>.<lambda>>,\n",
       "            {1: [array([ 1.,  0.,  0., ...,  1.,  0.,  0.]),\n",
       "              array([ 1.,  0.,  0., ...,  0.,  0.,  0.])],\n",
       "             2: [array([ 1.,  1.,  0., ...,  0.,  0.,  0.]),\n",
       "              array([ 1.,  0.,  0., ...,  0.,  0.,  0.])],\n",
       "             3: [array([  1.00000000e+00,   1.00000000e+00,   0.00000000e+00, ...,\n",
       "                       7.20740431e-23,   0.00000000e+00,   0.00000000e+00]),\n",
       "              array([ 0.,  0.,  1., ...,  0.,  0.,  0.])],\n",
       "             4: [array([ 1.,  0.,  1., ...,  1.,  0.,  0.]),\n",
       "              array([ 0.,  0.,  0., ...,  0.,  1.,  0.])],\n",
       "             5: [array([ 1.,  0.,  0., ...,  0.,  0.,  0.]),\n",
       "              array([ 0.,  0.,  0., ...,  0.,  0.,  0.])],\n",
       "             6: [array([ 1.,  0.,  0., ...,  1.,  0.,  1.]),\n",
       "              array([ 0.,  0.,  0., ...,  0.,  0.,  0.])],\n",
       "             7: [array([  1.00000000e+00,   0.00000000e+00,   0.00000000e+00, ...,\n",
       "                       1.01139970e-34,   0.00000000e+00,   0.00000000e+00]),\n",
       "              array([ 0.,  1.,  0., ...,  0.,  0.,  0.])],\n",
       "             8: [array([ 1.,  0.,  0., ...,  1.,  0.,  0.]),\n",
       "              array([ 0.,  1.,  0., ...,  0.,  0.,  0.])]})"
      ]
     },
     "execution_count": 79,
     "metadata": {},
     "output_type": "execute_result"
    }
   ],
   "source": [
    "data"
   ]
  },
  {
   "cell_type": "code",
   "execution_count": 93,
   "metadata": {},
   "outputs": [
    {
     "name": "stdout",
     "output_type": "stream",
     "text": [
      "Epoch 1/1\n",
      "207/207 [==============================] - 0s - loss: 0.0064 - acc: 0.9565     \n",
      "Epoch 1/1\n",
      "4835/4835 [==============================] - 0s - loss: 0.0042 - acc: 0.9760     \n",
      "Epoch 1/1\n",
      "10728/10728 [==============================] - 1s - loss: 0.0050 - acc: 0.9724     \n",
      "Epoch 1/1\n",
      "17084/17084 [==============================] - 1s - loss: 0.0049 - acc: 0.9717     \n",
      "Epoch 1/1\n",
      "15530/15530 [==============================] - 1s - loss: 0.0049 - acc: 0.9729     \n",
      "Epoch 1/1\n",
      "8524/8524 [==============================] - 1s - loss: 0.0049 - acc: 0.9715     \n",
      "Epoch 1/1\n",
      "2964/2964 [==============================] - 0s - loss: 0.0041 - acc: 0.9784     \n",
      "Epoch 1/1\n",
      "128/128 [==============================] - 0s - loss: 0.0057 - acc: 0.9688     \n"
     ]
    }
   ],
   "source": [
    "for i, (x, y) in data.items():\n",
    "    x = x.reshape((len(x)//256, 256))\n",
    "    y = y.reshape((len(y)//10, 10))\n",
    "    nodes[i][0].fit(x, y, epochs = 1, verbose = 1)"
   ]
  },
  {
   "cell_type": "code",
   "execution_count": 64,
   "metadata": {},
   "outputs": [
    {
     "name": "stdout",
     "output_type": "stream",
     "text": [
      "{1: 1.0, 2: 0.97708978328173379, 3: 0.9670177383592018, 4: 0.97538407821229045, 5: 0.9696442382057231, 6: 0.97241867043847241, 7: 0.98303287380699889, 8: 1.0}\n",
      "{1: 1.0, 2: 0.97708978328173379, 3: 0.96784922394678496, 4: 0.97590782122905029, 5: 0.96983758700696054, 6: 0.97277227722772275, 7: 0.98303287380699889, 8: 1.0}\n",
      "{1: 1.0, 2: 0.97832817337461297, 3: 0.96784922394678496, 4: 0.97625698324022347, 5: 0.97022428460943544, 6: 0.97277227722772275, 7: 0.98303287380699889, 8: 1.0}\n",
      "{1: 1.0, 2: 0.97832817337461297, 3: 0.96812638580931265, 4: 0.97643156424581001, 5: 0.97061098221191033, 6: 0.97277227722772275, 7: 0.98303287380699889, 8: 1.0}\n",
      "{1: 1.0, 2: 0.97832817337461297, 3: 0.96895787139689582, 4: 0.97660614525139666, 5: 0.97099767981438512, 6: 0.97312588401697309, 7: 0.98409331919406151, 8: 1.0}\n",
      "{1: 1.0, 2: 0.97832817337461297, 3: 0.96978935698447899, 4: 0.97695530726256985, 5: 0.97157772621809746, 6: 0.97347949080622342, 7: 0.98409331919406151, 8: 1.0}\n",
      "{1: 1.0, 2: 0.97894736842105268, 3: 0.97062084257206205, 4: 0.97747905027932958, 5: 0.97177107501933491, 6: 0.97383309759547387, 7: 0.98409331919406151, 8: 1.0}\n",
      "{1: 1.0, 2: 0.97956656346749227, 3: 0.97145232815964522, 4: 0.97782821229050276, 5: 0.97215777262180969, 6: 0.97383309759547387, 7: 0.98409331919406151, 8: 1.0}\n",
      "{1: 1.0, 2: 0.97956656346749227, 3: 0.9717294900221729, 4: 0.97782821229050276, 5: 0.97273781902552203, 6: 0.97383309759547387, 7: 0.98409331919406151, 8: 1.0}\n",
      "{1: 1.0, 2: 0.98080495356037156, 3: 0.9717294900221729, 4: 0.97817737430167595, 5: 0.97273781902552203, 6: 0.97454031117397455, 7: 0.98409331919406151, 8: 1.0}\n"
     ]
    }
   ],
   "source": [
    "for _ in range(10):\n",
    "    accuracy = defaultdict(float)\n",
    "    counts = defaultdict(int)\n",
    "    count = 1\n",
    "    totl = 0\n",
    "    tota = 0\n",
    "    ll, rr = 0, 0\n",
    "    for x, y in zip(newx[:20000], train_y):\n",
    "        x = np.array([x])\n",
    "        y = np.array([y])\n",
    "        index= int(dm.predict(x) * cluster_count)\n",
    "        h = nodes[index][0].fit(x, y, epochs = 1, verbose = 0)\n",
    "        loss, acc = (h.history['loss'][0],h.history['acc'][0])\n",
    "        accuracy[index] += acc\n",
    "        counts[index] += 1\n",
    "        print(\"epoch : {:7d}, loss: {:.6f}, acc: {:.6f}, {}:{}\".format(\n",
    "            count,totl/ count,tota/ count, index,accuracy[index]/ counts[index]), end = '\\r')\n",
    "        count += 1\n",
    "    t = {}\n",
    "    for i, e in accuracy.items():\n",
    "        t[i] = e / counts[i]\n",
    "    print(t)\n",
    "        \n",
    "        \n",
    "        "
   ]
  },
  {
   "cell_type": "code",
   "execution_count": 65,
   "metadata": {},
   "outputs": [],
   "source": [
    "xx = np.array([])\n",
    "xx."
   ]
  }
 ],
 "metadata": {
  "kernelspec": {
   "display_name": "Python 3",
   "language": "python",
   "name": "python3"
  },
  "language_info": {
   "codemirror_mode": {
    "name": "ipython",
    "version": 3
   },
   "file_extension": ".py",
   "mimetype": "text/x-python",
   "name": "python",
   "nbconvert_exporter": "python",
   "pygments_lexer": "ipython3",
   "version": "3.5.2"
  }
 },
 "nbformat": 4,
 "nbformat_minor": 2
}
